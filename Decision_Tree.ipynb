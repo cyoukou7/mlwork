{
 "cells": [
  {
   "cell_type": "code",
   "execution_count": 9,
   "metadata": {},
   "outputs": [
    {
     "name": "stdout",
     "output_type": "stream",
     "text": [
      "shape of data: (150, 4)\n",
      "iv names: ['sepal length (cm)', 'sepal width (cm)', 'petal length (cm)', 'petal width (cm)']\n",
      "shape of labels: (150,)\n",
      "label names: ['setosa' 'versicolor' 'virginica']\n",
      "\n",
      "The first 5 data samples, with labels:\n",
      "[5.1 3.5 1.4 0.2] 0\n",
      "[5.7 4.4 1.5 0.4] 0\n",
      "[4.8 3.1 1.6 0.2] 0\n",
      "[4.8 3.  1.4 0.3] 0\n",
      "[5.  2.  3.5 1. ] 1\n",
      "[6.6 3.  4.4 1.4] 1\n",
      "[5.5 2.6 4.4 1.2] 1\n",
      "[7.6 3.  6.6 2.1] 2\n",
      "[6.9 3.2 5.7 2.3] 2\n",
      "[7.7 3.  6.1 2.3] 2\n",
      "...\n"
     ]
    }
   ],
   "source": [
    "from sklearn import datasets\n",
    "iris = datasets.load_iris()\n",
    "\n",
    "print (\"shape of data:\",iris.data.shape)\n",
    "print (\"iv names:\",iris.feature_names)\n",
    "print (\"shape of labels:\", iris.target.shape)\n",
    "print (\"label names:\",iris.target_names)\n",
    "print ()\n",
    "\n",
    "print (\"The first 5 data samples, with labels:\")\n",
    "for i in range(0,149,15):\n",
    "    print (iris.data[i],iris.target[i])\n",
    "print (\"...\") "
   ]
  },
  {
   "cell_type": "code",
   "execution_count": 10,
   "metadata": {},
   "outputs": [
    {
     "data": {
      "text/html": [
       "<img src=\"http://upload.wikimedia.org/wikipedia/commons/e/ea/Anderson%27s_Iris_data_set.png\" width=\"600\"/>"
      ],
      "text/plain": [
       "<IPython.core.display.Image object>"
      ]
     },
     "execution_count": 10,
     "metadata": {},
     "output_type": "execute_result"
    }
   ],
   "source": [
    "from IPython.display import Image\n",
    "Image(url=\"http://upload.wikimedia.org/wikipedia/commons/e/ea/Anderson%27s_Iris_data_set.png\", width=600)"
   ]
  },
  {
   "cell_type": "code",
   "execution_count": 11,
   "metadata": {},
   "outputs": [
    {
     "name": "stdout",
     "output_type": "stream",
     "text": [
      "Populating the interactive namespace from numpy and matplotlib\n"
     ]
    }
   ],
   "source": [
    "%pylab inline\n",
    "from sklearn.tree import DecisionTreeClassifier\n",
    "from sklearn import tree"
   ]
  },
  {
   "cell_type": "code",
   "execution_count": 17,
   "metadata": {},
   "outputs": [],
   "source": [
    "have_dot_installed =  True"
   ]
  },
  {
   "cell_type": "code",
   "execution_count": 20,
   "metadata": {},
   "outputs": [
    {
     "data": {
      "text/plain": [
       "<matplotlib.legend.Legend at 0x8d6ba20>"
      ]
     },
     "execution_count": 20,
     "metadata": {},
     "output_type": "execute_result"
    },
    {
     "data": {
      "image/png": "[encoded data removed]",
      "text/plain": [
       "<Figure size 864x360 with 1 Axes>"
      ]
     },
     "metadata": {
      "needs_background": "light"
     },
     "output_type": "display_data"
    }
   ],
   "source": [
    "figure(1,figsize=(12,5))\n",
    "title(\"Decision Line: Depth = 1\")\n",
    "xlabel(iris.feature_names[3])\n",
    "ylabel(\"number of samples\")\n",
    "\n",
    "data_t0 = np.array([row for i,row in enumerate(iris.data) if iris.target[i] == 0])\n",
    "data_t1 = np.array([row for i,row in enumerate(iris.data) if iris.target[i] == 1])\n",
    "data_t2 = np.array([row for i,row in enumerate(iris.data) if iris.target[i] == 2])\n",
    "\n",
    "# Plot histogram:\n",
    "hist([data_t0[:,3], data_t1[:,3], data_t2[:,3]], label=iris.target_names, range=(0,3), bins=25, stacked=True)\n",
    "\n",
    "# Draw decision line on histogram\n",
    "plot([0.8, 0.8],[0,30],linewidth=2, color='k')\n",
    "\n",
    "legend(loc='upper right')"
   ]
  },
  {
   "cell_type": "code",
   "execution_count": null,
   "metadata": {},
   "outputs": [],
   "source": []
  }
 ],
 "metadata": {
  "kernelspec": {
   "display_name": "Python 3",
   "language": "python",
   "name": "python3"
  },
  "language_info": {
   "codemirror_mode": {
    "name": "ipython",
    "version": 3
   },
   "file_extension": ".py",
   "mimetype": "text/x-python",
   "name": "python",
   "nbconvert_exporter": "python",
   "pygments_lexer": "ipython3",
   "version": "3.7.0"
  }
 },
 "nbformat": 4,
 "nbformat_minor": 2
}
